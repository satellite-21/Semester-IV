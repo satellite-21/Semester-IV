{
 "cells": [
  {
   "cell_type": "markdown",
   "execution_count": null,
   "metadata": {
    "_cell_guid": "56826717-f8ac-4bc9-8b78-85f1e4627ee0",
    "_uuid": "25acba5558d64942b2d5971006eb45ffd8f873ef"
   },
   "outputs": [],
   "source": [
    "#  In this notebook, closing price is explored and predicted\n",
    "\n",
    "some of the code are simiar to this useful resource blow:\n",
    "\n",
    "PythonDataScienceHandbook\n",
    "https://github.com/jakevdp/PythonDataScienceHandbook/blob/master/notebooks/03.11-Working-with-Time-Series.ipynb "
   ]
  },
  {
   "cell_type": "markdown",
   "execution_count": null,
   "metadata": {
    "_cell_guid": "8ac79e18-0003-4bfc-bfa2-45eac8fe255f",
    "_uuid": "9e7dbe00aadb2ad9209356933af7e6d79f53927e"
   },
   "outputs": [],
   "source": [
    "In time-series data, there are some Important things to consider before\n",
    "fitting machine-learning models.\n",
    "\n",
    "1. A trend in the data\n",
    "2. seasonality\n",
    "3. outliers\n",
    "4. long-run cycle\n",
    "5. constant variance\n",
    "6. abrupt changes\n",
    "\n",
    "\n",
    "resource:  STAT 510  https://onlinecourses.science.psu.edu/stat510/node/47 \n"
   ]
  },
  {
   "cell_type": "code",
   "execution_count": 1,
   "metadata": {
    "_cell_guid": "088d60af-7311-4956-af5a-911a357d0b22",
    "_execution_state": "idle",
    "_uuid": "c12b7f0911f259d22d6d7d157d04c39c27ff1bdc"
   },
   "outputs": [
    {
     "name": "stdout",
     "output_type": "stream",
     "text": [
      "bitcoin_price_1week_Test - Test.csv\n",
      "bitcoin_price_Training - Training.csv\n",
      "\n"
     ]
    }
   ],
   "source": [
    "import matplotlib.pyplot as plt\n",
    "import numpy as np\n",
    "import pandas as pd\n",
    "import seaborn; seaborn.set()\n",
    "%matplotlib inline\n",
    "\n",
    "# Input data files are available in the \"../input/\" directory.\n",
    "from subprocess import check_output\n",
    "print(check_output([\"ls\", \"../input\"]).decode(\"utf8\"))\n"
   ]
  },
  {
   "cell_type": "code",
   "execution_count": 2,
   "metadata": {
    "_cell_guid": "966c1316-35a0-40c9-a43a-3204aae3a489",
    "_execution_state": "idle",
    "_uuid": "33fb9111b75950cfccbf89d3276f0f3bc3fd3afa",
    "collapsed": true
   },
   "outputs": [],
   "source": [
    "train = pd.read_csv(\"../input/bitcoin_price_Training - Training.csv\")\n",
    "test = pd.read_csv(\"../input/bitcoin_price_1week_Test - Test.csv\")"
   ]
  },
  {
   "cell_type": "code",
   "execution_count": 3,
   "metadata": {
    "_cell_guid": "6851e547-f824-4a84-a88e-ba9c374892ec",
    "_execution_state": "idle",
    "_uuid": "853e1e5f25a0bf7b78e284742284f3eff8fa5b96"
   },
   "outputs": [
    {
     "name": "stdout",
     "output_type": "stream",
     "text": [
      "(1556, 7)\n",
      "(7, 7)\n"
     ]
    }
   ],
   "source": [
    "print(train.shape)\n",
    "print(test.shape)"
   ]
  },
  {
   "cell_type": "code",
   "execution_count": 4,
   "metadata": {
    "_cell_guid": "deff9f95-9e41-4adf-b471-8df9cbbd947b",
    "_execution_state": "idle",
    "_uuid": "220196551822bd3d92b0bed1a451b61054d6aa99"
   },
   "outputs": [
    {
     "data": {
      "text/html": [
       "<div>\n",
       "<style>\n",
       "    .dataframe thead tr:only-child th {\n",
       "        text-align: right;\n",
       "    }\n",
       "\n",
       "    .dataframe thead th {\n",
       "        text-align: left;\n",
       "    }\n",
       "\n",
       "    .dataframe tbody tr th {\n",
       "        vertical-align: top;\n",
       "    }\n",
       "</style>\n",
       "<table border=\"1\" class=\"dataframe\">\n",
       "  <thead>\n",
       "    <tr style=\"text-align: right;\">\n",
       "      <th></th>\n",
       "      <th>Date</th>\n",
       "      <th>Open</th>\n",
       "      <th>High</th>\n",
       "      <th>Low</th>\n",
       "      <th>Close</th>\n",
       "      <th>Volume</th>\n",
       "      <th>Market Cap</th>\n",
       "    </tr>\n",
       "  </thead>\n",
       "  <tbody>\n",
       "    <tr>\n",
       "      <th>0</th>\n",
       "      <td>Jul 31, 2017</td>\n",
       "      <td>2763.24</td>\n",
       "      <td>2889.62</td>\n",
       "      <td>2720.61</td>\n",
       "      <td>2875.34</td>\n",
       "      <td>860,575,000</td>\n",
       "      <td>45,535,800,000</td>\n",
       "    </tr>\n",
       "    <tr>\n",
       "      <th>1</th>\n",
       "      <td>Jul 30, 2017</td>\n",
       "      <td>2724.39</td>\n",
       "      <td>2758.53</td>\n",
       "      <td>2644.85</td>\n",
       "      <td>2757.18</td>\n",
       "      <td>705,943,000</td>\n",
       "      <td>44,890,700,000</td>\n",
       "    </tr>\n",
       "    <tr>\n",
       "      <th>2</th>\n",
       "      <td>Jul 29, 2017</td>\n",
       "      <td>2807.02</td>\n",
       "      <td>2808.76</td>\n",
       "      <td>2692.80</td>\n",
       "      <td>2726.45</td>\n",
       "      <td>803,746,000</td>\n",
       "      <td>46,246,700,000</td>\n",
       "    </tr>\n",
       "    <tr>\n",
       "      <th>3</th>\n",
       "      <td>Jul 28, 2017</td>\n",
       "      <td>2679.73</td>\n",
       "      <td>2897.45</td>\n",
       "      <td>2679.73</td>\n",
       "      <td>2809.01</td>\n",
       "      <td>1,380,100,000</td>\n",
       "      <td>44,144,400,000</td>\n",
       "    </tr>\n",
       "    <tr>\n",
       "      <th>4</th>\n",
       "      <td>Jul 27, 2017</td>\n",
       "      <td>2538.71</td>\n",
       "      <td>2693.32</td>\n",
       "      <td>2529.34</td>\n",
       "      <td>2671.78</td>\n",
       "      <td>789,104,000</td>\n",
       "      <td>41,816,500,000</td>\n",
       "    </tr>\n",
       "  </tbody>\n",
       "</table>\n",
       "</div>"
      ],
      "text/plain": [
       "           Date     Open     High      Low    Close         Volume  \\\n",
       "0  Jul 31, 2017  2763.24  2889.62  2720.61  2875.34    860,575,000   \n",
       "1  Jul 30, 2017  2724.39  2758.53  2644.85  2757.18    705,943,000   \n",
       "2  Jul 29, 2017  2807.02  2808.76  2692.80  2726.45    803,746,000   \n",
       "3  Jul 28, 2017  2679.73  2897.45  2679.73  2809.01  1,380,100,000   \n",
       "4  Jul 27, 2017  2538.71  2693.32  2529.34  2671.78    789,104,000   \n",
       "\n",
       "       Market Cap  \n",
       "0  45,535,800,000  \n",
       "1  44,890,700,000  \n",
       "2  46,246,700,000  \n",
       "3  44,144,400,000  \n",
       "4  41,816,500,000  "
      ]
     },
     "execution_count": 4,
     "metadata": {},
     "output_type": "execute_result"
    }
   ],
   "source": [
    "train.head()"
   ]
  },
  {
   "cell_type": "code",
   "execution_count": 5,
   "metadata": {
    "_cell_guid": "dd0a25ab-9bf1-4711-a134-a132b3868b2e",
    "_execution_state": "idle",
    "_uuid": "55c3c07f0d0c5c4cc1a9946480f3f76729d469a3"
   },
   "outputs": [
    {
     "data": {
      "text/html": [
       "<div>\n",
       "<style>\n",
       "    .dataframe thead tr:only-child th {\n",
       "        text-align: right;\n",
       "    }\n",
       "\n",
       "    .dataframe thead th {\n",
       "        text-align: left;\n",
       "    }\n",
       "\n",
       "    .dataframe tbody tr th {\n",
       "        vertical-align: top;\n",
       "    }\n",
       "</style>\n",
       "<table border=\"1\" class=\"dataframe\">\n",
       "  <thead>\n",
       "    <tr style=\"text-align: right;\">\n",
       "      <th></th>\n",
       "      <th>Date</th>\n",
       "      <th>Open</th>\n",
       "      <th>High</th>\n",
       "      <th>Low</th>\n",
       "      <th>Close</th>\n",
       "      <th>Volume</th>\n",
       "      <th>Market Cap</th>\n",
       "    </tr>\n",
       "  </thead>\n",
       "  <tbody>\n",
       "    <tr>\n",
       "      <th>1551</th>\n",
       "      <td>May 02, 2013</td>\n",
       "      <td>116.38</td>\n",
       "      <td>125.60</td>\n",
       "      <td>92.28</td>\n",
       "      <td>105.21</td>\n",
       "      <td>-</td>\n",
       "      <td>1,292,190,000</td>\n",
       "    </tr>\n",
       "    <tr>\n",
       "      <th>1552</th>\n",
       "      <td>May 01, 2013</td>\n",
       "      <td>139.00</td>\n",
       "      <td>139.89</td>\n",
       "      <td>107.72</td>\n",
       "      <td>116.99</td>\n",
       "      <td>-</td>\n",
       "      <td>1,542,820,000</td>\n",
       "    </tr>\n",
       "    <tr>\n",
       "      <th>1553</th>\n",
       "      <td>Apr 30, 2013</td>\n",
       "      <td>144.00</td>\n",
       "      <td>146.93</td>\n",
       "      <td>134.05</td>\n",
       "      <td>139.00</td>\n",
       "      <td>-</td>\n",
       "      <td>1,597,780,000</td>\n",
       "    </tr>\n",
       "    <tr>\n",
       "      <th>1554</th>\n",
       "      <td>Apr 29, 2013</td>\n",
       "      <td>134.44</td>\n",
       "      <td>147.49</td>\n",
       "      <td>134.00</td>\n",
       "      <td>144.54</td>\n",
       "      <td>-</td>\n",
       "      <td>1,491,160,000</td>\n",
       "    </tr>\n",
       "    <tr>\n",
       "      <th>1555</th>\n",
       "      <td>Apr 28, 2013</td>\n",
       "      <td>135.30</td>\n",
       "      <td>135.98</td>\n",
       "      <td>132.10</td>\n",
       "      <td>134.21</td>\n",
       "      <td>-</td>\n",
       "      <td>1,500,520,000</td>\n",
       "    </tr>\n",
       "  </tbody>\n",
       "</table>\n",
       "</div>"
      ],
      "text/plain": [
       "              Date    Open    High     Low   Close Volume     Market Cap\n",
       "1551  May 02, 2013  116.38  125.60   92.28  105.21      -  1,292,190,000\n",
       "1552  May 01, 2013  139.00  139.89  107.72  116.99      -  1,542,820,000\n",
       "1553  Apr 30, 2013  144.00  146.93  134.05  139.00      -  1,597,780,000\n",
       "1554  Apr 29, 2013  134.44  147.49  134.00  144.54      -  1,491,160,000\n",
       "1555  Apr 28, 2013  135.30  135.98  132.10  134.21      -  1,500,520,000"
      ]
     },
     "execution_count": 5,
     "metadata": {},
     "output_type": "execute_result"
    }
   ],
   "source": [
    "train.tail()"
   ]
  },
  {
   "cell_type": "code",
   "execution_count": 6,
   "metadata": {
    "_cell_guid": "8184dd27-2b77-4180-a42a-281ee00ab329",
    "_uuid": "09b75587d0a10dcca9b701ed11b79b46c627d270"
   },
   "outputs": [
    {
     "data": {
      "text/html": [
       "<div>\n",
       "<style>\n",
       "    .dataframe thead tr:only-child th {\n",
       "        text-align: right;\n",
       "    }\n",
       "\n",
       "    .dataframe thead th {\n",
       "        text-align: left;\n",
       "    }\n",
       "\n",
       "    .dataframe tbody tr th {\n",
       "        vertical-align: top;\n",
       "    }\n",
       "</style>\n",
       "<table border=\"1\" class=\"dataframe\">\n",
       "  <thead>\n",
       "    <tr style=\"text-align: right;\">\n",
       "      <th></th>\n",
       "      <th>Date</th>\n",
       "      <th>Open</th>\n",
       "      <th>High</th>\n",
       "      <th>Low</th>\n",
       "      <th>Close</th>\n",
       "      <th>Volume</th>\n",
       "      <th>Market Cap</th>\n",
       "    </tr>\n",
       "  </thead>\n",
       "  <tbody>\n",
       "    <tr>\n",
       "      <th>0</th>\n",
       "      <td>Aug 07, 2017</td>\n",
       "      <td>3212.78</td>\n",
       "      <td>3397.68</td>\n",
       "      <td>3180.89</td>\n",
       "      <td>3378.94</td>\n",
       "      <td>1,482,280,000</td>\n",
       "      <td>52,987,300,000</td>\n",
       "    </tr>\n",
       "    <tr>\n",
       "      <th>1</th>\n",
       "      <td>Aug 06, 2017</td>\n",
       "      <td>3257.61</td>\n",
       "      <td>3293.29</td>\n",
       "      <td>3155.60</td>\n",
       "      <td>3213.94</td>\n",
       "      <td>1,105,030,000</td>\n",
       "      <td>53,720,900,000</td>\n",
       "    </tr>\n",
       "    <tr>\n",
       "      <th>2</th>\n",
       "      <td>Aug 05, 2017</td>\n",
       "      <td>2897.63</td>\n",
       "      <td>3290.01</td>\n",
       "      <td>2874.83</td>\n",
       "      <td>3252.91</td>\n",
       "      <td>1,945,700,000</td>\n",
       "      <td>47,778,200,000</td>\n",
       "    </tr>\n",
       "    <tr>\n",
       "      <th>3</th>\n",
       "      <td>Aug 04, 2017</td>\n",
       "      <td>2806.93</td>\n",
       "      <td>2899.33</td>\n",
       "      <td>2743.72</td>\n",
       "      <td>2895.89</td>\n",
       "      <td>1,002,120,000</td>\n",
       "      <td>46,276,200,000</td>\n",
       "    </tr>\n",
       "    <tr>\n",
       "      <th>4</th>\n",
       "      <td>Aug 03, 2017</td>\n",
       "      <td>2709.56</td>\n",
       "      <td>2813.31</td>\n",
       "      <td>2685.14</td>\n",
       "      <td>2804.73</td>\n",
       "      <td>804,797,000</td>\n",
       "      <td>44,666,400,000</td>\n",
       "    </tr>\n",
       "    <tr>\n",
       "      <th>5</th>\n",
       "      <td>Aug 02, 2017</td>\n",
       "      <td>2727.13</td>\n",
       "      <td>2762.53</td>\n",
       "      <td>2668.59</td>\n",
       "      <td>2710.67</td>\n",
       "      <td>1,094,950,000</td>\n",
       "      <td>44,950,800,000</td>\n",
       "    </tr>\n",
       "    <tr>\n",
       "      <th>6</th>\n",
       "      <td>Aug 01, 2017</td>\n",
       "      <td>2871.30</td>\n",
       "      <td>2921.35</td>\n",
       "      <td>2685.61</td>\n",
       "      <td>2718.26</td>\n",
       "      <td>1,324,670,000</td>\n",
       "      <td>47,321,800,000</td>\n",
       "    </tr>\n",
       "  </tbody>\n",
       "</table>\n",
       "</div>"
      ],
      "text/plain": [
       "           Date     Open     High      Low    Close         Volume  \\\n",
       "0  Aug 07, 2017  3212.78  3397.68  3180.89  3378.94  1,482,280,000   \n",
       "1  Aug 06, 2017  3257.61  3293.29  3155.60  3213.94  1,105,030,000   \n",
       "2  Aug 05, 2017  2897.63  3290.01  2874.83  3252.91  1,945,700,000   \n",
       "3  Aug 04, 2017  2806.93  2899.33  2743.72  2895.89  1,002,120,000   \n",
       "4  Aug 03, 2017  2709.56  2813.31  2685.14  2804.73    804,797,000   \n",
       "5  Aug 02, 2017  2727.13  2762.53  2668.59  2710.67  1,094,950,000   \n",
       "6  Aug 01, 2017  2871.30  2921.35  2685.61  2718.26  1,324,670,000   \n",
       "\n",
       "       Market Cap  \n",
       "0  52,987,300,000  \n",
       "1  53,720,900,000  \n",
       "2  47,778,200,000  \n",
       "3  46,276,200,000  \n",
       "4  44,666,400,000  \n",
       "5  44,950,800,000  \n",
       "6  47,321,800,000  "
      ]
     },
     "execution_count": 6,
     "metadata": {},
     "output_type": "execute_result"
    }
   ],
   "source": [
    "test"
   ]
  },
  {
   "cell_type": "markdown",
   "execution_count": null,
   "metadata": {
    "_cell_guid": "22ebf677-de32-4871-b259-b1ae227f6cff",
    "_uuid": "2438d1b1c4d55c5329df26e4d6382a5a57dfade7"
   },
   "outputs": [],
   "source": [
    "  #  Reverse the order of the date so that it becomes chronological order"
   ]
  },
  {
   "cell_type": "code",
   "execution_count": 7,
   "metadata": {
    "_cell_guid": "2636ee23-ad88-4a73-9341-6a73937c535a",
    "_execution_state": "idle",
    "_uuid": "0d325b7cecc0cd06418567d37b75e06caae9b121"
   },
   "outputs": [
    {
     "data": {
      "text/html": [
       "<div>\n",
       "<style>\n",
       "    .dataframe thead tr:only-child th {\n",
       "        text-align: right;\n",
       "    }\n",
       "\n",
       "    .dataframe thead th {\n",
       "        text-align: left;\n",
       "    }\n",
       "\n",
       "    .dataframe tbody tr th {\n",
       "        vertical-align: top;\n",
       "    }\n",
       "</style>\n",
       "<table border=\"1\" class=\"dataframe\">\n",
       "  <thead>\n",
       "    <tr style=\"text-align: right;\">\n",
       "      <th></th>\n",
       "      <th>Date</th>\n",
       "      <th>Open</th>\n",
       "      <th>High</th>\n",
       "      <th>Low</th>\n",
       "      <th>Close</th>\n",
       "      <th>Volume</th>\n",
       "      <th>Market Cap</th>\n",
       "    </tr>\n",
       "  </thead>\n",
       "  <tbody>\n",
       "    <tr>\n",
       "      <th>1555</th>\n",
       "      <td>Apr 28, 2013</td>\n",
       "      <td>135.30</td>\n",
       "      <td>135.98</td>\n",
       "      <td>132.10</td>\n",
       "      <td>134.21</td>\n",
       "      <td>-</td>\n",
       "      <td>1,500,520,000</td>\n",
       "    </tr>\n",
       "    <tr>\n",
       "      <th>1554</th>\n",
       "      <td>Apr 29, 2013</td>\n",
       "      <td>134.44</td>\n",
       "      <td>147.49</td>\n",
       "      <td>134.00</td>\n",
       "      <td>144.54</td>\n",
       "      <td>-</td>\n",
       "      <td>1,491,160,000</td>\n",
       "    </tr>\n",
       "    <tr>\n",
       "      <th>1553</th>\n",
       "      <td>Apr 30, 2013</td>\n",
       "      <td>144.00</td>\n",
       "      <td>146.93</td>\n",
       "      <td>134.05</td>\n",
       "      <td>139.00</td>\n",
       "      <td>-</td>\n",
       "      <td>1,597,780,000</td>\n",
       "    </tr>\n",
       "    <tr>\n",
       "      <th>1552</th>\n",
       "      <td>May 01, 2013</td>\n",
       "      <td>139.00</td>\n",
       "      <td>139.89</td>\n",
       "      <td>107.72</td>\n",
       "      <td>116.99</td>\n",
       "      <td>-</td>\n",
       "      <td>1,542,820,000</td>\n",
       "    </tr>\n",
       "    <tr>\n",
       "      <th>1551</th>\n",
       "      <td>May 02, 2013</td>\n",
       "      <td>116.38</td>\n",
       "      <td>125.60</td>\n",
       "      <td>92.28</td>\n",
       "      <td>105.21</td>\n",
       "      <td>-</td>\n",
       "      <td>1,292,190,000</td>\n",
       "    </tr>\n",
       "  </tbody>\n",
       "</table>\n",
       "</div>"
      ],
      "text/plain": [
       "              Date    Open    High     Low   Close Volume     Market Cap\n",
       "1555  Apr 28, 2013  135.30  135.98  132.10  134.21      -  1,500,520,000\n",
       "1554  Apr 29, 2013  134.44  147.49  134.00  144.54      -  1,491,160,000\n",
       "1553  Apr 30, 2013  144.00  146.93  134.05  139.00      -  1,597,780,000\n",
       "1552  May 01, 2013  139.00  139.89  107.72  116.99      -  1,542,820,000\n",
       "1551  May 02, 2013  116.38  125.60   92.28  105.21      -  1,292,190,000"
      ]
     },
     "execution_count": 7,
     "metadata": {},
     "output_type": "execute_result"
    }
   ],
   "source": [
    "train = train[::-1] \n",
    "test = test[::-1]\n",
    "train.head()"
   ]
  },
  {
   "cell_type": "markdown",
   "execution_count": null,
   "metadata": {
    "_cell_guid": "bf0328b2-1bc2-4a7b-a9c9-8646e0650582",
    "_uuid": "7c5a94454ee3960223183ce450b92766e245364c"
   },
   "outputs": [],
   "source": [
    "# Change the date notation(string date) to numerical date\n",
    "![](http://)-- define a function (which converts date to desired format) and apply each date\n",
    " \n",
    " Example -- \n",
    " \n",
    "f(x):= apply num\n",
    "\n",
    "f(April 28, 2013) = 2013-04-28"
   ]
  },
  {
   "cell_type": "code",
   "execution_count": 8,
   "metadata": {
    "_cell_guid": "952e083a-9e6b-4a4a-b6e0-27ac5f8102cc",
    "_execution_state": "idle",
    "_uuid": "68ddc1306f801acab700050b3f41621192bf18f0",
    "collapsed": true
   },
   "outputs": [],
   "source": [
    "from dateutil.parser import parse\n",
    "from datetime import datetime\n",
    "\n",
    "def convert(date):\n",
    "    holder = []\n",
    "    for i in date:\n",
    "        tp = parse(i).timestamp()\n",
    "        dt = datetime.fromtimestamp(tp)\n",
    "        holder.append(dt)\n",
    "    return np.array(holder)"
   ]
  },
  {
   "cell_type": "code",
   "execution_count": 9,
   "metadata": {
    "_cell_guid": "b4dbf135-9fd8-4179-9fb3-7655c9b32e47",
    "_execution_state": "idle",
    "_uuid": "08c5c6f7447b43553d7ba92342c83c46df23cfaa",
    "collapsed": true
   },
   "outputs": [],
   "source": [
    "date = train['Date'].values\n",
    "date_n = convert(date)"
   ]
  },
  {
   "cell_type": "code",
   "execution_count": 10,
   "metadata": {
    "_cell_guid": "533eb3cd-85f2-417a-947d-c7394eb6297f",
    "_execution_state": "idle",
    "_uuid": "51e48ef89037b8494452a9e365341e61b998cf22"
   },
   "outputs": [
    {
     "name": "stdout",
     "output_type": "stream",
     "text": [
      "True\n"
     ]
    }
   ],
   "source": [
    "# sanity check\n",
    "print(len(date_n) == train.shape[0])"
   ]
  },
  {
   "cell_type": "code",
   "execution_count": 11,
   "metadata": {
    "_cell_guid": "bb20dd74-0e79-4882-9c8f-5d1c9e8af2c8",
    "_execution_state": "idle",
    "_uuid": "1242622be4b249dd097acab68d8bb5424028062b"
   },
   "outputs": [
    {
     "data": {
      "text/html": [
       "<div>\n",
       "<style>\n",
       "    .dataframe thead tr:only-child th {\n",
       "        text-align: right;\n",
       "    }\n",
       "\n",
       "    .dataframe thead th {\n",
       "        text-align: left;\n",
       "    }\n",
       "\n",
       "    .dataframe tbody tr th {\n",
       "        vertical-align: top;\n",
       "    }\n",
       "</style>\n",
       "<table border=\"1\" class=\"dataframe\">\n",
       "  <thead>\n",
       "    <tr style=\"text-align: right;\">\n",
       "      <th></th>\n",
       "      <th>Date</th>\n",
       "      <th>Open</th>\n",
       "      <th>High</th>\n",
       "      <th>Low</th>\n",
       "      <th>Close</th>\n",
       "      <th>Volume</th>\n",
       "      <th>Market Cap</th>\n",
       "    </tr>\n",
       "  </thead>\n",
       "  <tbody>\n",
       "    <tr>\n",
       "      <th>1555</th>\n",
       "      <td>2013-04-28</td>\n",
       "      <td>135.30</td>\n",
       "      <td>135.98</td>\n",
       "      <td>132.10</td>\n",
       "      <td>134.21</td>\n",
       "      <td>-</td>\n",
       "      <td>1,500,520,000</td>\n",
       "    </tr>\n",
       "    <tr>\n",
       "      <th>1554</th>\n",
       "      <td>2013-04-29</td>\n",
       "      <td>134.44</td>\n",
       "      <td>147.49</td>\n",
       "      <td>134.00</td>\n",
       "      <td>144.54</td>\n",
       "      <td>-</td>\n",
       "      <td>1,491,160,000</td>\n",
       "    </tr>\n",
       "    <tr>\n",
       "      <th>1553</th>\n",
       "      <td>2013-04-30</td>\n",
       "      <td>144.00</td>\n",
       "      <td>146.93</td>\n",
       "      <td>134.05</td>\n",
       "      <td>139.00</td>\n",
       "      <td>-</td>\n",
       "      <td>1,597,780,000</td>\n",
       "    </tr>\n",
       "    <tr>\n",
       "      <th>1552</th>\n",
       "      <td>2013-05-01</td>\n",
       "      <td>139.00</td>\n",
       "      <td>139.89</td>\n",
       "      <td>107.72</td>\n",
       "      <td>116.99</td>\n",
       "      <td>-</td>\n",
       "      <td>1,542,820,000</td>\n",
       "    </tr>\n",
       "    <tr>\n",
       "      <th>1551</th>\n",
       "      <td>2013-05-02</td>\n",
       "      <td>116.38</td>\n",
       "      <td>125.60</td>\n",
       "      <td>92.28</td>\n",
       "      <td>105.21</td>\n",
       "      <td>-</td>\n",
       "      <td>1,292,190,000</td>\n",
       "    </tr>\n",
       "  </tbody>\n",
       "</table>\n",
       "</div>"
      ],
      "text/plain": [
       "           Date    Open    High     Low   Close Volume     Market Cap\n",
       "1555 2013-04-28  135.30  135.98  132.10  134.21      -  1,500,520,000\n",
       "1554 2013-04-29  134.44  147.49  134.00  144.54      -  1,491,160,000\n",
       "1553 2013-04-30  144.00  146.93  134.05  139.00      -  1,597,780,000\n",
       "1552 2013-05-01  139.00  139.89  107.72  116.99      -  1,542,820,000\n",
       "1551 2013-05-02  116.38  125.60   92.28  105.21      -  1,292,190,000"
      ]
     },
     "execution_count": 11,
     "metadata": {},
     "output_type": "execute_result"
    }
   ],
   "source": [
    "train['Date'] = date_n\n",
    "train.head()"
   ]
  },
  {
   "cell_type": "markdown",
   "execution_count": null,
   "metadata": {
    "_cell_guid": "7df3ecfe-eebc-4680-9db8-ebb62c27600c",
    "_uuid": "e39268d69eca24a206a9c217fe3c459c321096cc"
   },
   "outputs": [],
   "source": [
    "# Set Index as Date"
   ]
  },
  {
   "cell_type": "code",
   "execution_count": 12,
   "metadata": {
    "_cell_guid": "0790997f-59d7-47c2-b8b5-9d9a68147540",
    "_execution_state": "idle",
    "_uuid": "d892a045e95fed6b2b2ab53127f1bdda51a27da9"
   },
   "outputs": [
    {
     "data": {
      "text/html": [
       "<div>\n",
       "<style>\n",
       "    .dataframe thead tr:only-child th {\n",
       "        text-align: right;\n",
       "    }\n",
       "\n",
       "    .dataframe thead th {\n",
       "        text-align: left;\n",
       "    }\n",
       "\n",
       "    .dataframe tbody tr th {\n",
       "        vertical-align: top;\n",
       "    }\n",
       "</style>\n",
       "<table border=\"1\" class=\"dataframe\">\n",
       "  <thead>\n",
       "    <tr style=\"text-align: right;\">\n",
       "      <th></th>\n",
       "      <th>Open</th>\n",
       "      <th>High</th>\n",
       "      <th>Low</th>\n",
       "      <th>Close</th>\n",
       "      <th>Volume</th>\n",
       "      <th>Market Cap</th>\n",
       "    </tr>\n",
       "    <tr>\n",
       "      <th>Date</th>\n",
       "      <th></th>\n",
       "      <th></th>\n",
       "      <th></th>\n",
       "      <th></th>\n",
       "      <th></th>\n",
       "      <th></th>\n",
       "    </tr>\n",
       "  </thead>\n",
       "  <tbody>\n",
       "    <tr>\n",
       "      <th>2013-04-28</th>\n",
       "      <td>135.30</td>\n",
       "      <td>135.98</td>\n",
       "      <td>132.10</td>\n",
       "      <td>134.21</td>\n",
       "      <td>-</td>\n",
       "      <td>1,500,520,000</td>\n",
       "    </tr>\n",
       "    <tr>\n",
       "      <th>2013-04-29</th>\n",
       "      <td>134.44</td>\n",
       "      <td>147.49</td>\n",
       "      <td>134.00</td>\n",
       "      <td>144.54</td>\n",
       "      <td>-</td>\n",
       "      <td>1,491,160,000</td>\n",
       "    </tr>\n",
       "    <tr>\n",
       "      <th>2013-04-30</th>\n",
       "      <td>144.00</td>\n",
       "      <td>146.93</td>\n",
       "      <td>134.05</td>\n",
       "      <td>139.00</td>\n",
       "      <td>-</td>\n",
       "      <td>1,597,780,000</td>\n",
       "    </tr>\n",
       "    <tr>\n",
       "      <th>2013-05-01</th>\n",
       "      <td>139.00</td>\n",
       "      <td>139.89</td>\n",
       "      <td>107.72</td>\n",
       "      <td>116.99</td>\n",
       "      <td>-</td>\n",
       "      <td>1,542,820,000</td>\n",
       "    </tr>\n",
       "    <tr>\n",
       "      <th>2013-05-02</th>\n",
       "      <td>116.38</td>\n",
       "      <td>125.60</td>\n",
       "      <td>92.28</td>\n",
       "      <td>105.21</td>\n",
       "      <td>-</td>\n",
       "      <td>1,292,190,000</td>\n",
       "    </tr>\n",
       "  </tbody>\n",
       "</table>\n",
       "</div>"
      ],
      "text/plain": [
       "              Open    High     Low   Close Volume     Market Cap\n",
       "Date                                                            \n",
       "2013-04-28  135.30  135.98  132.10  134.21      -  1,500,520,000\n",
       "2013-04-29  134.44  147.49  134.00  144.54      -  1,491,160,000\n",
       "2013-04-30  144.00  146.93  134.05  139.00      -  1,597,780,000\n",
       "2013-05-01  139.00  139.89  107.72  116.99      -  1,542,820,000\n",
       "2013-05-02  116.38  125.60   92.28  105.21      -  1,292,190,000"
      ]
     },
     "execution_count": 12,
     "metadata": {},
     "output_type": "execute_result"
    }
   ],
   "source": [
    "train = train.set_index('Date')\n",
    "train.head()"
   ]
  },
  {
   "cell_type": "code",
   "execution_count": 13,
   "metadata": {
    "_cell_guid": "4e4d968c-fb90-42a7-a593-642e51669318",
    "_execution_state": "idle",
    "_uuid": "068efcabbbd1ee790be8c2a77721b8a0840cb7fa"
   },
   "outputs": [
    {
     "data": {
      "text/html": [
       "<div>\n",
       "<style>\n",
       "    .dataframe thead tr:only-child th {\n",
       "        text-align: right;\n",
       "    }\n",
       "\n",
       "    .dataframe thead th {\n",
       "        text-align: left;\n",
       "    }\n",
       "\n",
       "    .dataframe tbody tr th {\n",
       "        vertical-align: top;\n",
       "    }\n",
       "</style>\n",
       "<table border=\"1\" class=\"dataframe\">\n",
       "  <thead>\n",
       "    <tr style=\"text-align: right;\">\n",
       "      <th></th>\n",
       "      <th>Open</th>\n",
       "      <th>High</th>\n",
       "      <th>Low</th>\n",
       "      <th>Close</th>\n",
       "    </tr>\n",
       "  </thead>\n",
       "  <tbody>\n",
       "    <tr>\n",
       "      <th>count</th>\n",
       "      <td>1556.000000</td>\n",
       "      <td>1556.000000</td>\n",
       "      <td>1556.000000</td>\n",
       "      <td>1556.000000</td>\n",
       "    </tr>\n",
       "    <tr>\n",
       "      <th>mean</th>\n",
       "      <td>582.625328</td>\n",
       "      <td>597.992847</td>\n",
       "      <td>567.851446</td>\n",
       "      <td>584.239396</td>\n",
       "    </tr>\n",
       "    <tr>\n",
       "      <th>std</th>\n",
       "      <td>523.137312</td>\n",
       "      <td>542.992855</td>\n",
       "      <td>505.877401</td>\n",
       "      <td>525.904442</td>\n",
       "    </tr>\n",
       "    <tr>\n",
       "      <th>min</th>\n",
       "      <td>68.500000</td>\n",
       "      <td>74.560000</td>\n",
       "      <td>65.530000</td>\n",
       "      <td>68.430000</td>\n",
       "    </tr>\n",
       "    <tr>\n",
       "      <th>25%</th>\n",
       "      <td>254.287500</td>\n",
       "      <td>260.327500</td>\n",
       "      <td>248.835000</td>\n",
       "      <td>254.320000</td>\n",
       "    </tr>\n",
       "    <tr>\n",
       "      <th>50%</th>\n",
       "      <td>438.600000</td>\n",
       "      <td>447.560000</td>\n",
       "      <td>430.570000</td>\n",
       "      <td>438.855000</td>\n",
       "    </tr>\n",
       "    <tr>\n",
       "      <th>75%</th>\n",
       "      <td>662.437500</td>\n",
       "      <td>674.525000</td>\n",
       "      <td>646.735000</td>\n",
       "      <td>663.402500</td>\n",
       "    </tr>\n",
       "    <tr>\n",
       "      <th>max</th>\n",
       "      <td>2953.220000</td>\n",
       "      <td>2999.910000</td>\n",
       "      <td>2840.530000</td>\n",
       "      <td>2958.110000</td>\n",
       "    </tr>\n",
       "  </tbody>\n",
       "</table>\n",
       "</div>"
      ],
      "text/plain": [
       "              Open         High          Low        Close\n",
       "count  1556.000000  1556.000000  1556.000000  1556.000000\n",
       "mean    582.625328   597.992847   567.851446   584.239396\n",
       "std     523.137312   542.992855   505.877401   525.904442\n",
       "min      68.500000    74.560000    65.530000    68.430000\n",
       "25%     254.287500   260.327500   248.835000   254.320000\n",
       "50%     438.600000   447.560000   430.570000   438.855000\n",
       "75%     662.437500   674.525000   646.735000   663.402500\n",
       "max    2953.220000  2999.910000  2840.530000  2958.110000"
      ]
     },
     "execution_count": 13,
     "metadata": {},
     "output_type": "execute_result"
    }
   ],
   "source": [
    "train.describe()"
   ]
  },
  {
   "cell_type": "code",
   "execution_count": 14,
   "metadata": {
    "_cell_guid": "05f2387b-ea99-4486-b580-27189e656aa6",
    "_execution_state": "idle",
    "_uuid": "fa8360d603e304d9ce4cf73faa1e70e46873ff6f"
   },
   "outputs": [
    {
     "data": {
      "text/plain": [
       "Open          False\n",
       "High          False\n",
       "Low           False\n",
       "Close         False\n",
       "Volume        False\n",
       "Market Cap    False\n",
       "dtype: bool"
      ]
     },
     "execution_count": 14,
     "metadata": {},
     "output_type": "execute_result"
    }
   ],
   "source": [
    "# check the missing values\n",
    "train.isnull().any()"
   ]
  },
  {
   "cell_type": "markdown",
   "execution_count": null,
   "metadata": {
    "_cell_guid": "ac97b72e-2c92-41ac-931a-fa66347705c2",
    "_uuid": "f173bf0b73a747f216d57cae384c5a835bd234b0"
   },
   "outputs": [],
   "source": [
    " # Visualization of closing price (on row data & log-scale)\n",
    "\n",
    "Idea: The reason why log-scale is used on y-axis is that it reveals the percentile change\n",
    "     \n",
    "     Ex: \n",
    "\n",
    "     Case 1) when price goes up from $ 10-$ 15: change(increase) is $5. Increase rate is 50%\n",
    "\n",
    "     Case 2) when price goes up from $20-$25: change(increase) is  $5. Increase rate is 25%\n",
    "       \n",
    "In both cases , change is same but rate of change is different.\n",
    "\n",
    "\n",
    "\n",
    "Refrence: What is the difference between a logarithmic price scale and a linear one?\n",
    "http://www.investopedia.com/ask/answers/05/logvslinear.asp#ixzz4pKMuY5HA "
   ]
  },
  {
   "cell_type": "code",
   "execution_count": 15,
   "metadata": {
    "_cell_guid": "8503b87c-63bd-4ecc-b17c-e27110685164",
    "_execution_state": "idle",
    "_uuid": "c7b4c0b18977a14a956a65798eff6ba0aaa18e4c"
   },
   "outputs": [
    {
     "data": {
      "text/plain": [
       "<matplotlib.legend.Legend at 0x7f87b9b3c710>"
      ]
     },
     "execution_count": 15,
     "metadata": {},
     "output_type": "execute_result"
    },
    {
     "data": {
      "image/png": "[encoded data removed]",
      "text/plain": [
       "<matplotlib.figure.Figure at 0x7f87b9cc54e0>"
      ]
     },
     "metadata": {},
     "output_type": "display_data"
    }
   ],
   "source": [
    "plt.figure(num=None, figsize=(20, 6))\n",
    "plt.subplot(1,2,1)\n",
    "ax = train['Close'].plot(style=['-'])\n",
    "ax.lines[0].set_alpha(0.3)\n",
    "ax.set_ylim(0, np.max(train['Close'] + 100))\n",
    "plt.xticks(rotation=90)\n",
    "plt.title(\"No scaling\")\n",
    "ax.legend()\n",
    "plt.subplot(1,2,2)\n",
    "ax = train['Close'].plot(style=['-'])\n",
    "ax.lines[0].set_alpha(0.3)\n",
    "ax.set_yscale('log')\n",
    "ax.set_ylim(0, np.max(train['Close'] + 100))\n",
    "plt.xticks(rotation=90)\n",
    "plt.title(\"logarithmic scale\")\n",
    "ax.legend()"
   ]
  },
  {
   "cell_type": "markdown",
   "execution_count": null,
   "metadata": {
    "_cell_guid": "a53540f7-47f3-4219-b89f-225934c70e8e",
    "_uuid": "cd1ec4772d47088e124727ad184298ac321c2a57"
   },
   "outputs": [],
   "source": [
    "Some features of the plot above:\n",
    "\n",
    "1. There is an uppward trend from 2016 for each graph\n",
    "2.  There is no seasnality\n",
    "3. There are no outliers\n",
    "4. There are some vaiance in the logarithmic scaled data. This will be confirmed using rolling average and standard deviation."
   ]
  },
  {
   "cell_type": "markdown",
   "execution_count": null,
   "metadata": {
    "_cell_guid": "765e26ce-0950-454e-a781-7a605b7e3d19",
    "_uuid": "f3a3f9f4683de038a1616f8fdc152cfe417464e2"
   },
   "outputs": [],
   "source": [
    " # Resampling at  lower frequency\n",
    " \n",
    " plot the average of price in the previous year and price at the end of the year"
   ]
  },
  {
   "cell_type": "code",
   "execution_count": 16,
   "metadata": {
    "_cell_guid": "e113147f-6dfc-4331-8d8a-8d23214e38f1",
    "_execution_state": "idle",
    "_uuid": "e10228ba4aeb518c741cc68c47702ecc81a3a561"
   },
   "outputs": [
    {
     "data": {
      "text/plain": [
       "<matplotlib.legend.Legend at 0x7f87affdf400>"
      ]
     },
     "execution_count": 16,
     "metadata": {},
     "output_type": "execute_result"
    },
    {
     "data": {
      "image/png": "[encoded data removed]",
      "text/plain": [
       "<matplotlib.figure.Figure at 0x7f87aff90208>"
      ]
     },
     "metadata": {},
     "output_type": "display_data"
    }
   ],
   "source": [
    "close = train['Close']\n",
    "close.plot(alpha=0.5, style='-')\n",
    "close.resample('BA').mean().plot(style=':')\n",
    "close.asfreq('BA').plot(style='--')\n",
    "plt.yscale('log')\n",
    "plt.title(\"logarithmic scale\")\n",
    "plt.legend(['close-price', 'resample', 'asfreq'], \n",
    "           loc='upper left')\n",
    "# 'resample'-- average of the previous year\n",
    "# 'asfreq' -- value at the end of the year"
   ]
  },
  {
   "cell_type": "markdown",
   "execution_count": null,
   "metadata": {
    "_cell_guid": "b6ac8bf6-dd61-4858-934c-d81d7b35f2d7",
    "_uuid": "c69f23d585aa89524e255e0eeae76a721c6686b1"
   },
   "outputs": [],
   "source": [
    " # ROI"
   ]
  },
  {
   "cell_type": "code",
   "execution_count": 17,
   "metadata": {
    "_cell_guid": "c04ed9b7-d4f6-47da-8ee7-0d2e409d8f0a",
    "_execution_state": "idle",
    "_uuid": "3a8369c716f982d99bb65c29765e545cff8fa822"
   },
   "outputs": [
    {
     "data": {
      "image/png": "[encoded data removed]",
      "text/plain": [
       "<matplotlib.figure.Figure at 0x7f87af95e390>"
      ]
     },
     "metadata": {},
     "output_type": "display_data"
    }
   ],
   "source": [
    "ROI = 100 * (close.tshift(-365) / close - 1)\n",
    "ROI.plot()\n",
    "plt.ylabel('% Return on Investment');"
   ]
  },
  {
   "cell_type": "markdown",
   "execution_count": null,
   "metadata": {
    "_cell_guid": "16f42970-4163-4712-bbf7-be4aff4329ae",
    "_uuid": "126f170b85024fe51cbfa94f90aefa848f2acb74"
   },
   "outputs": [],
   "source": [
    "# Moving averages: SMA and EMA\n",
    " \n",
    "moving averages are used to smooth out the data to see the underlying trend\n",
    "\n",
    "SMA(simple mean average) calculates the mean of some span(N) while EMA (exponential mean average) does so putting\n",
    "more emphasis on recent points\n",
    "\n",
    "reference: http://www.investopedia.com/university/movingaverage/movingaverages1.asp"
   ]
  },
  {
   "cell_type": "code",
   "execution_count": 18,
   "metadata": {
    "_cell_guid": "38bc4fce-f0c9-4971-824e-816c5a97b8f7",
    "_execution_state": "idle",
    "_uuid": "fb00162e2af35cf83b1f381e31e37d9316544733"
   },
   "outputs": [
    {
     "data": {
      "image/png": "[encoded data removed]",
      "text/plain": [
       "<matplotlib.figure.Figure at 0x7f87b9a4ef60>"
      ]
     },
     "metadata": {},
     "output_type": "display_data"
    }
   ],
   "source": [
    "rolling = close.rolling(200, center=True)\n",
    "\n",
    "data = pd.DataFrame({'input': close, \n",
    "                     '200days rolling_mean': rolling.mean(), \n",
    "                     '200days rolling_std': rolling.std()})\n",
    "\n",
    "ax = data.plot(style=['-', '--', ':'])\n",
    "ax.set_yscale('log')\n",
    "ax.set_title(\"SMA on log scale\")\n",
    "rolling = close.rolling(365, center=True)\n",
    "ax.lines[0].set_alpha(0.3)"
   ]
  },
  {
   "cell_type": "markdown",
   "execution_count": null,
   "metadata": {
    "_cell_guid": "655ebea6-e474-40dd-8eeb-2ab1e3ba36bd",
    "_uuid": "bf7a6956aa77956a8c0ed8e2745979f1c86efa6d"
   },
   "outputs": [],
   "source": [
    "Important to note: standard deviation for (percentile)change of price  is not consitent over time or non-constant variance"
   ]
  },
  {
   "cell_type": "code",
   "execution_count": 19,
   "metadata": {
    "_cell_guid": "3521dded-e210-454a-a092-03055699e9f4",
    "_uuid": "9e760c5a68bfa5f5495bc5092949722d7007fa6e"
   },
   "outputs": [
    {
     "data": {
      "image/png": "[encoded data removed]",
      "text/plain": [
       "<matplotlib.figure.Figure at 0x7f87b98bb748>"
      ]
     },
     "metadata": {},
     "output_type": "display_data"
    }
   ],
   "source": [
    "ax = data.plot(style=['-', '--', ':'])\n",
    "ax.set_title(\"SMA on raw data\")\n",
    "ax.lines[0].set_alpha(0.3)"
   ]
  },
  {
   "cell_type": "code",
   "execution_count": 20,
   "metadata": {
    "_cell_guid": "9471e123-df98-4d97-940e-057dd524bafe",
    "_uuid": "a05472559d9c1a017390fe6d75f89cbc50ec8f7a",
    "scrolled": true
   },
   "outputs": [
    {
     "name": "stderr",
     "output_type": "stream",
     "text": [
      "/opt/conda/lib/python3.6/site-packages/ipykernel_launcher.py:1: FutureWarning: pd.ewm_mean is deprecated for Series and will be removed in a future version, replace with \n",
      "\tSeries.ewm(com=200,min_periods=0,adjust=True,ignore_na=False).mean()\n",
      "  \"\"\"Entry point for launching an IPython kernel.\n"
     ]
    },
    {
     "data": {
      "image/png": "[encoded data removed]",
      "text/plain": [
       "<matplotlib.figure.Figure at 0x7f87b986ec50>"
      ]
     },
     "metadata": {},
     "output_type": "display_data"
    }
   ],
   "source": [
    "rolling = pd.ewma(close, com=200)\n",
    "\n",
    "data = pd.DataFrame({'input': close, \n",
    "                     '200days rolling_mean': rolling.mean(), \n",
    "                     '200days rolling_std': rolling.std()})\n",
    "\n",
    "ax = data.plot(style=['-', '--', ':'])\n",
    "ax.set_yscale('log')\n",
    "ax.set_title(\"EMA on log scale\")\n",
    "ax.lines[0].set_alpha(0.3)"
   ]
  },
  {
   "cell_type": "code",
   "execution_count": 21,
   "metadata": {
    "_cell_guid": "580055d1-4f19-484e-97d0-b9112e60ee57",
    "_uuid": "2c37815ce5fde73039309db9a2affd7105652b68"
   },
   "outputs": [
    {
     "data": {
      "image/png": "[encoded data removed]",
      "text/plain": [
       "<matplotlib.figure.Figure at 0x7f87b995b278>"
      ]
     },
     "metadata": {},
     "output_type": "display_data"
    }
   ],
   "source": [
    "ax = data.plot(style=['-', '--', ':'])\n",
    "ax.set_title(\"EMA on raw data\")\n",
    "ax.lines[0].set_alpha(0.3)"
   ]
  },
  {
   "cell_type": "code",
   "execution_count": 22,
   "metadata": {
    "_cell_guid": "c5b9760d-0714-4feb-ad9a-2fa363bae00e",
    "_execution_state": "idle",
    "_uuid": "8ebc8a40b402cf9a452ccac2bf50d26b4e3256c0",
    "collapsed": true
   },
   "outputs": [],
   "source": []
  },
  {
   "cell_type": "markdown",
   "execution_count": null,
   "metadata": {
    "_cell_guid": "afd4c630-9231-4dc9-a899-d6d9f100da35",
    "_uuid": "530787f89be211d1b841aad459828797bedf8cf9"
   },
   "outputs": [],
   "source": [
    "# Lag Plot ( check whether time series is random or not)\n",
    "\n",
    "resource: http://www.itl.nist.gov/div898/handbook/eda/section3/lagplot.htm \n",
    "\n",
    "In the graph below, firt axis represents the  t(lag), seond axis represents t+1\n",
    "\n",
    "Ex: if data is, [1,4,5,3,2], then y(t):= [1,4,5,3,2], y(t+1): = [4,5,3,2]\n",
    "\n",
    "As we see the graph below, this suggests the non-random pattern (graph is poistively linear).\n",
    "\n",
    "Non-randomness in the data reveals that we could use an autoregressive model"
   ]
  },
  {
   "cell_type": "code",
   "execution_count": 22,
   "metadata": {
    "_cell_guid": "a7190fac-879c-4be4-a780-95791c4a3f1d",
    "_execution_state": "idle",
    "_uuid": "9cb92ddf5f014e56c0ea41d68bfb6e3f98c8f355"
   },
   "outputs": [
    {
     "data": {
      "text/plain": [
       "<matplotlib.axes._subplots.AxesSubplot at 0x7f87af9f3080>"
      ]
     },
     "execution_count": 22,
     "metadata": {},
     "output_type": "execute_result"
    },
    {
     "data": {
      "image/png": "[encoded data removed]",
      "text/plain": [
       "<matplotlib.figure.Figure at 0x7f87b992b6a0>"
      ]
     },
     "metadata": {},
     "output_type": "display_data"
    }
   ],
   "source": [
    "from pandas.plotting import lag_plot\n",
    "lag_plot(close)"
   ]
  },
  {
   "cell_type": "markdown",
   "execution_count": null,
   "metadata": {
    "_cell_guid": "2caf9a4e-817a-4b7d-9d10-e75f9f8fa172",
    "_uuid": "f90ea716ac33a9a2bda796ccdafa97bda926c507"
   },
   "outputs": [],
   "source": [
    "  # Autocorrelation\n",
    "resource: http://www.itl.nist.gov/div898/handbook/eda/section3/eda35c.htm \n",
    "\n",
    "A lag plot above shows the structure in the data. In order to quantify the correlation between the point at t and point at t+1\n",
    "withe respect to expectation, autocrrelation is used.\n",
    "\n",
    "A  black line in the graph below shows the expectation for random data(thus 0 correlation) and two dash lines above and below it represent the confidence interval with each 95% and 99%.\n",
    "\n",
    "The graph shows a strong correlation for lags of < 100 days. (lag 0 is always 1 corrleation)"
   ]
  },
  {
   "cell_type": "code",
   "execution_count": 23,
   "metadata": {
    "_cell_guid": "34877f75-b707-4779-968d-c1c5bd2dce5b",
    "_execution_state": "idle",
    "_uuid": "4088ec05a26e240cf25402fd03988589fea59d84"
   },
   "outputs": [
    {
     "data": {
      "text/plain": [
       "<matplotlib.axes._subplots.AxesSubplot at 0x7f87b99f5748>"
      ]
     },
     "execution_count": 23,
     "metadata": {},
     "output_type": "execute_result"
    },
    {
     "data": {
      "image/png": "[encoded data removed]",
      "text/plain": [
       "<matplotlib.figure.Figure at 0x7f87b9a8b828>"
      ]
     },
     "metadata": {},
     "output_type": "display_data"
    }
   ],
   "source": [
    "from pandas.plotting import autocorrelation_plot\n",
    "autocorrelation_plot(close)"
   ]
  },
  {
   "cell_type": "code",
   "execution_count": 24,
   "metadata": {
    "_cell_guid": "35ba50dc-c89d-4516-a7ab-e32f4a38a227",
    "_uuid": "7ce9c53c0000ae1abeb13b5e19b18ddd25edf595",
    "collapsed": true
   },
   "outputs": [],
   "source": []
  },
  {
   "cell_type": "markdown",
   "execution_count": null,
   "metadata": {
    "_cell_guid": "00a45f76-d927-42eb-ba9a-28e237c10be3",
    "_uuid": "7f50b8511742b0838b18ac1ea943e79d68e7030d"
   },
   "outputs": [],
   "source": [
    "# Partial autocorrelation\n",
    "\n",
    "Idea: Partical autocorrelation only descirbes the direct effect of a value at t-k(k is a lag) on value at t, ignoring the values between them (values from t-k+1 to t-1). Autocrrelaiton take the in-between values into account. \n",
    "Partial autocrrelation will us detemine the order of an autoregressive model, p. (AR(p))\n",
    "reference: Difference between autocrrelation and partial autocorrelation\n",
    "https://stats.stackexchange.com/questions/129052/acf-and-pacf-formula\n"
   ]
  },
  {
   "cell_type": "code",
   "execution_count": 24,
   "metadata": {
    "_cell_guid": "45d7c17a-2bf2-4fc7-a5bc-57976346989b",
    "_uuid": "edf830eda2c964810cd22c889c8c3b2702dd4ba9"
   },
   "outputs": [
    {
     "name": "stderr",
     "output_type": "stream",
     "text": [
      "/opt/conda/lib/python3.6/site-packages/statsmodels/compat/pandas.py:56: FutureWarning: The pandas.core.datetools module is deprecated and will be removed in a future version. Please use the pandas.tseries module instead.\n",
      "  from pandas.core import datetools\n"
     ]
    }
   ],
   "source": [
    "from pandas import Series\n",
    "from statsmodels.graphics.tsaplots import plot_pacf"
   ]
  },
  {
   "cell_type": "code",
   "execution_count": 25,
   "metadata": {
    "_cell_guid": "11411d71-21f7-4d5e-bbdc-9afe76893a81",
    "_uuid": "5b0b7dd628608e06622c920ff2fd23f6cf8ef9e5"
   },
   "outputs": [
    {
     "data": {
      "image/png": "[encoded data removed]",
      "text/plain": [
       "<matplotlib.figure.Figure at 0x7f87af9084a8>"
      ]
     },
     "execution_count": 25,
     "metadata": {},
     "output_type": "execute_result"
    },
    {
     "data": {
      "image/png": "[encoded data removed]",
      "text/plain": [
       "<matplotlib.figure.Figure at 0x7f87af9084a8>"
      ]
     },
     "metadata": {},
     "output_type": "display_data"
    }
   ],
   "source": [
    "plot_pacf(close, lags=50)"
   ]
  },
  {
   "cell_type": "markdown",
   "execution_count": null,
   "metadata": {
    "_cell_guid": "b44e0602-9755-4490-ac1d-9a0d316bff86",
    "_uuid": "2c0946bb3b04340a8d30c0450e240c7ea8fb1685"
   },
   "outputs": [],
   "source": [
    "# Autoregression\n",
    "lag plot and autocorrelation revealed that we could use autoregression for fitting data\n",
    "we will predict test data (closing price for 7 days) using training data\n",
    "\n",
    "resource: \n",
    "Autoregression Models for Time Series Forecasting With Python\n",
    "http://machinelearningmastery.com/autoregression-models-time-series-forecasting-python/"
   ]
  },
  {
   "cell_type": "code",
   "execution_count": 26,
   "metadata": {
    "_cell_guid": "3a25efe4-88bc-446f-9643-dbf963134edf",
    "_execution_state": "idle",
    "_uuid": "f00291a9e9323249f2f69668ec4dfe0a3561da13",
    "collapsed": true
   },
   "outputs": [],
   "source": [
    "from statsmodels.tsa.ar_model import AR\n",
    "from sklearn.metrics import mean_squared_error\n",
    "\n",
    "test = test['Close'].values"
   ]
  },
  {
   "cell_type": "code",
   "execution_count": 27,
   "metadata": {
    "_cell_guid": "c44561c5-7323-465b-9866-931cb431662d",
    "_uuid": "e01f708bb43cb67712ccc29de75f51ea72073c82",
    "collapsed": true
   },
   "outputs": [],
   "source": [
    "train_pr = train['Close'].values"
   ]
  },
  {
   "cell_type": "code",
   "execution_count": 28,
   "metadata": {
    "_cell_guid": "eb7ab1b4-53d4-4240-83b9-8121a9890e92",
    "_uuid": "c6a75ce43e6075a1902c3c39532929f49985c033"
   },
   "outputs": [
    {
     "name": "stdout",
     "output_type": "stream",
     "text": [
      "Lag: 24\n",
      "Coefficients: [ -5.93224038e-01   9.68541384e-01  -4.46816657e-03   1.08726752e-02\n",
      "   5.62501188e-02  -1.96305055e-02  -2.04566246e-02  -3.68850269e-02\n",
      "   2.25865872e-02   9.09395297e-05   4.63140594e-02   6.96864349e-02\n",
      "  -6.15615194e-02  -4.82916394e-02   9.21960256e-02  -9.52353216e-03\n",
      "   2.55395829e-03  -1.29667192e-02  -3.87685150e-02  -4.24641381e-02\n",
      "   1.07858677e-02  -1.28956465e-01   1.98373368e-01  -1.08179141e-01\n",
      "   5.81163082e-02]\n",
      "Test MSE 36821.060\n"
     ]
    }
   ],
   "source": [
    "# train and fit autoregression\n",
    "model = AR(train_pr)\n",
    "model_fit = model.fit()\n",
    "\n",
    "print(\"Lag: %s\" % model_fit.k_ar)\n",
    "print(\"Coefficients: %s\" % model_fit.params)\n",
    "\n",
    "pred = model_fit.predict(start=len(train), end=len(train_pr)+len(test)-1, dynamic=False)\n",
    "mse = mean_squared_error(test, pred)\n",
    "print(\"Test MSE {0:.3f}\".format(mse))"
   ]
  },
  {
   "cell_type": "markdown",
   "execution_count": null,
   "metadata": {
    "_cell_guid": "e185eb4d-82ea-4795-9047-c8b799e91b59",
    "_uuid": "6c5477db0f1e77f5f54343afbb1020fe6700bcb7"
   },
   "outputs": [],
   "source": [
    "Important to note:\n",
    "\n",
    "1. 24 lags are used to train the model (24 previous points are used to predict a next point)\n",
    "\n",
    "2. MSE is high"
   ]
  },
  {
   "cell_type": "code",
   "execution_count": 29,
   "metadata": {
    "_cell_guid": "6c413dda-4ba0-4df2-af2a-2ec522659ffb",
    "_uuid": "5156205b875fa9d3cf09770d9ccbe136356ee6fa"
   },
   "outputs": [
    {
     "data": {
      "text/plain": [
       "<matplotlib.legend.Legend at 0x7f87af73cc18>"
      ]
     },
     "execution_count": 29,
     "metadata": {},
     "output_type": "execute_result"
    },
    {
     "data": {
      "image/png": "[encoded data removed]",
      "text/plain": [
       "<matplotlib.figure.Figure at 0x7f87af70bba8>"
      ]
     },
     "metadata": {},
     "output_type": "display_data"
    }
   ],
   "source": [
    "plt.plot(test, label='true value')\n",
    "plt.plot(pred, color='red', label='prediction')\n",
    "plt.title(\"Autoregressive model\")\n",
    "plt.legend()"
   ]
  },
  {
   "cell_type": "markdown",
   "execution_count": null,
   "metadata": {
    "_cell_guid": "2f85ac00-f32f-4059-8500-d22473d16632",
    "_uuid": "272e0216427c014df4643f5c917ec8acaf70b76d"
   },
   "outputs": [],
   "source": []
  },
  {
   "cell_type": "code",
   "execution_count": 30,
   "metadata": {
    "_cell_guid": "3af8d6ec-98de-46f6-9cf2-6d31cf073bef",
    "_uuid": "281c6df0697d6932e1fa18b01fbdde2a831d62d2",
    "collapsed": true
   },
   "outputs": [],
   "source": []
  },
  {
   "cell_type": "code",
   "execution_count": 30,
   "metadata": {
    "_cell_guid": "e5bf2f88-fce5-4886-990d-4882f8807212",
    "_uuid": "b5d1e3064880ac4ce6226873c6fd06ec36d038ec",
    "collapsed": true
   },
   "outputs": [],
   "source": []
  },
  {
   "cell_type": "code",
   "execution_count": 30,
   "metadata": {
    "_cell_guid": "86a7df24-e9d2-4106-b6dc-94c12682260b",
    "_uuid": "3034de11a68e153ae001ecd138564c39f9adb76f",
    "collapsed": true
   },
   "outputs": [],
   "source": []
  }
 ],
 "metadata": {
  "kernelspec": {
   "display_name": "Python 3",
   "language": "python",
   "name": "python3"
  },
  "language_info": {
   "codemirror_mode": {
    "name": "ipython",
    "version": 3
   },
   "file_extension": ".py",
   "mimetype": "text/x-python",
   "name": "python",
   "nbconvert_exporter": "python",
   "pygments_lexer": "ipython3",
   "version": "3.6.1"
  }
 },
 "nbformat": 4,
 "nbformat_minor": 1
}
