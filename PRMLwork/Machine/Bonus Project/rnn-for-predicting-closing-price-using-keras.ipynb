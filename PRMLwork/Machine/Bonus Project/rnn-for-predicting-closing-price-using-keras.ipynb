{
 "cells": [
  {
   "cell_type": "markdown",
   "metadata": {
    "_cell_guid": "ff9faf94-90d3-4cdc-94d3-4230968b1c45",
    "_uuid": "2d3b178c9245c9f877a67d937cd32f59263a2ef3"
   },
   "source": [
    "# In this notebook, simple RNN will be used to predict the closing price of Bitcoin\n",
    "\n",
    "* Any feedback is welcome!!\n",
    "\n",
    "reference: Deep learning with Python (some lines of code are extracted and modified from this book)\n",
    "1. https://www.manning.com/books/deep-learning-with-python"
   ]
  },
  {
   "cell_type": "markdown",
   "metadata": {
    "_cell_guid": "f7ec753e-dc72-4e96-9ae0-bc41271bc48d",
    "_uuid": "6b1ee1792b63cf47ae7fa21ed41b8451c13e22c4"
   },
   "source": [
    "# Please refer to the kernel below for data exploration\n",
    "https://www.kaggle.com/kentata/time-series-data-exploration"
   ]
  },
  {
   "cell_type": "code",
   "execution_count": 1,
   "metadata": {
    "_cell_guid": "e5597995-1a23-40d2-85cb-8603fbe5181d",
    "_uuid": "f37c51e2567d1c03946bf2ebda6c830c8acb9179",
    "scrolled": true
   },
   "outputs": [
    {
     "name": "stdout",
     "output_type": "stream",
     "text": [
      "bitcoin_price_1week_Test - Test.csv\n",
      "bitcoin_price_Training - Training.csv\n",
      "\n"
     ]
    }
   ],
   "source": [
    "import numpy as np\n",
    "import pandas as pd \n",
    "import matplotlib.pyplot as plt\n",
    "%matplotlib inline\n",
    "import seaborn as sns; sns.set()\n",
    "# Input data files are available in the \"../input/\" directory.\n",
    "\n",
    "\n",
    "from subprocess import check_output\n",
    "print(check_output([\"ls\", \"../input\"]).decode(\"utf8\"))\n",
    "\n",
    "# Any results you write to the current directory are saved as output."
   ]
  },
  {
   "cell_type": "code",
   "execution_count": 2,
   "metadata": {
    "_cell_guid": "e92fb697-4dae-443f-bdfc-4040477fa63a",
    "_uuid": "5cae6e3c6c4c61461ff331c23904b078e55dd777",
    "collapsed": true
   },
   "outputs": [],
   "source": [
    "train = pd.read_csv(\"../input/bitcoin_price_Training - Training.csv\")\n",
    "test = pd.read_csv(\"../input/bitcoin_price_1week_Test - Test.csv\")"
   ]
  },
  {
   "cell_type": "code",
   "execution_count": 3,
   "metadata": {
    "_cell_guid": "dad2513d-ad5c-4682-ba08-033d58a8f364",
    "_uuid": "b21534944986ad5b34316f025a96d537426bd43a",
    "collapsed": true
   },
   "outputs": [],
   "source": [
    "train = train[::-1]\n",
    "test = test[::-1]"
   ]
  },
  {
   "cell_type": "code",
   "execution_count": 4,
   "metadata": {
    "_cell_guid": "5fb1a71b-1ae2-4c75-be85-a0c9532ce620",
    "_uuid": "959807425192929fb4ce607880a805666d24f6dd"
   },
   "outputs": [
    {
     "data": {
      "text/html": [
       "<div>\n",
       "<style>\n",
       "    .dataframe thead tr:only-child th {\n",
       "        text-align: right;\n",
       "    }\n",
       "\n",
       "    .dataframe thead th {\n",
       "        text-align: left;\n",
       "    }\n",
       "\n",
       "    .dataframe tbody tr th {\n",
       "        vertical-align: top;\n",
       "    }\n",
       "</style>\n",
       "<table border=\"1\" class=\"dataframe\">\n",
       "  <thead>\n",
       "    <tr style=\"text-align: right;\">\n",
       "      <th></th>\n",
       "      <th>Date</th>\n",
       "      <th>Open</th>\n",
       "      <th>High</th>\n",
       "      <th>Low</th>\n",
       "      <th>Close</th>\n",
       "      <th>Volume</th>\n",
       "      <th>Market Cap</th>\n",
       "    </tr>\n",
       "  </thead>\n",
       "  <tbody>\n",
       "    <tr>\n",
       "      <th>1555</th>\n",
       "      <td>Apr 28, 2013</td>\n",
       "      <td>135.30</td>\n",
       "      <td>135.98</td>\n",
       "      <td>132.10</td>\n",
       "      <td>134.21</td>\n",
       "      <td>-</td>\n",
       "      <td>1,500,520,000</td>\n",
       "    </tr>\n",
       "    <tr>\n",
       "      <th>1554</th>\n",
       "      <td>Apr 29, 2013</td>\n",
       "      <td>134.44</td>\n",
       "      <td>147.49</td>\n",
       "      <td>134.00</td>\n",
       "      <td>144.54</td>\n",
       "      <td>-</td>\n",
       "      <td>1,491,160,000</td>\n",
       "    </tr>\n",
       "    <tr>\n",
       "      <th>1553</th>\n",
       "      <td>Apr 30, 2013</td>\n",
       "      <td>144.00</td>\n",
       "      <td>146.93</td>\n",
       "      <td>134.05</td>\n",
       "      <td>139.00</td>\n",
       "      <td>-</td>\n",
       "      <td>1,597,780,000</td>\n",
       "    </tr>\n",
       "    <tr>\n",
       "      <th>1552</th>\n",
       "      <td>May 01, 2013</td>\n",
       "      <td>139.00</td>\n",
       "      <td>139.89</td>\n",
       "      <td>107.72</td>\n",
       "      <td>116.99</td>\n",
       "      <td>-</td>\n",
       "      <td>1,542,820,000</td>\n",
       "    </tr>\n",
       "    <tr>\n",
       "      <th>1551</th>\n",
       "      <td>May 02, 2013</td>\n",
       "      <td>116.38</td>\n",
       "      <td>125.60</td>\n",
       "      <td>92.28</td>\n",
       "      <td>105.21</td>\n",
       "      <td>-</td>\n",
       "      <td>1,292,190,000</td>\n",
       "    </tr>\n",
       "  </tbody>\n",
       "</table>\n",
       "</div>"
      ],
      "text/plain": [
       "              Date    Open    High     Low   Close Volume     Market Cap\n",
       "1555  Apr 28, 2013  135.30  135.98  132.10  134.21      -  1,500,520,000\n",
       "1554  Apr 29, 2013  134.44  147.49  134.00  144.54      -  1,491,160,000\n",
       "1553  Apr 30, 2013  144.00  146.93  134.05  139.00      -  1,597,780,000\n",
       "1552  May 01, 2013  139.00  139.89  107.72  116.99      -  1,542,820,000\n",
       "1551  May 02, 2013  116.38  125.60   92.28  105.21      -  1,292,190,000"
      ]
     },
     "execution_count": 4,
     "metadata": {},
     "output_type": "execute_result"
    }
   ],
   "source": [
    "train.head()"
   ]
  },
  {
   "cell_type": "code",
   "execution_count": 5,
   "metadata": {
    "_cell_guid": "a9f4e4ae-b765-420e-a1dc-71d077a874fe",
    "_uuid": "64df3017961c79a1cb2bc425e2ce3b710d988af9",
    "collapsed": true
   },
   "outputs": [],
   "source": [
    "train = train['Close'].values.astype('float32')\n",
    "test = test['Close'].values.astype('float32')"
   ]
  },
  {
   "cell_type": "markdown",
   "metadata": {
    "_cell_guid": "fc56d316-c7b0-431a-87a5-4a5c0c5322db",
    "_uuid": "760da4555737afb907c29bcf6dd5990551c123bb"
   },
   "source": [
    "# Make sure to standardize the data before feeding it to neural nets"
   ]
  },
  {
   "cell_type": "code",
   "execution_count": 6,
   "metadata": {
    "_cell_guid": "3c75f077-5d36-46c8-b2b9-3040a810b3f7",
    "_uuid": "5ef412246e480c3b15f5122d649a611477c8a543",
    "collapsed": true
   },
   "outputs": [],
   "source": [
    "from sklearn.preprocessing import StandardScaler"
   ]
  },
  {
   "cell_type": "code",
   "execution_count": 7,
   "metadata": {
    "_cell_guid": "140aa0d1-877a-4590-8b2c-c0f819aefa58",
    "_uuid": "eba78ef02a5e8a8ead44abd732f7932304e17a23",
    "collapsed": true
   },
   "outputs": [],
   "source": [
    "# reshape data to scale the point\n",
    "train = train.reshape(-1, 1)\n",
    "test = test.reshape(-1, 1)\n",
    "\n",
    "scaler = StandardScaler()\n",
    "train_n = scaler.fit_transform(train)\n",
    "test_n = scaler.transform(test)"
   ]
  },
  {
   "cell_type": "code",
   "execution_count": 8,
   "metadata": {
    "_cell_guid": "a15bb097-88c2-44e6-bcd4-0aad75476b78",
    "_uuid": "467b816d42a90320331752e49f289752af9001d6"
   },
   "outputs": [
    {
     "name": "stdout",
     "output_type": "stream",
     "text": [
      "(1556, 1)\n",
      "(7, 1)\n"
     ]
    }
   ],
   "source": [
    "print(train_n.shape)\n",
    "print(test_n.shape)"
   ]
  },
  {
   "cell_type": "code",
   "execution_count": 9,
   "metadata": {
    "_cell_guid": "968e401b-6d40-4690-aacc-25b624cdb5da",
    "_uuid": "45b57895f96bbe049d0534504bf98bfe9e47dfac",
    "collapsed": true
   },
   "outputs": [],
   "source": [
    "def generator(data, lookback, delay, min_index, max_index, \n",
    "              shuffle=False, batch_size=128, step=1):\n",
    "    if max_index is None:\n",
    "        max_index = len(data) - delay - 1\n",
    "    i = min_index + lookback\n",
    "    while 1:\n",
    "        if shuffle:\n",
    "            rows = np.random.randint(min_index + lookback, max_index, size=batch_size)\n",
    "        else:\n",
    "            if i + batch_size >= max_index:\n",
    "                i = min_index + lookback\n",
    "                \n",
    "            rows = np.arange(i, min(i + batch_size, max_index))\n",
    "            i += len(rows)\n",
    "        samples = np.zeros((len(rows), lookback // step, data.shape[-1]))\n",
    "        targets = np.zeros((len(rows),))\n",
    "        for j, row in enumerate(rows):\n",
    "            indices = range(rows[j] - lookback, rows[j], step)\n",
    "            samples[j] = data[indices]\n",
    "            targets[j] = data[rows[j] + delay]\n",
    "        yield samples, targets"
   ]
  },
  {
   "cell_type": "markdown",
   "metadata": {
    "_cell_guid": "4560101a-1ca0-48ce-83d0-7a07f65f005e",
    "_uuid": "1c01d4e4f3327f126dab8fed545fe692d09f4244"
   },
   "source": [
    "**Hyperparameters:**\n",
    "\n",
    "lookback: how many points (days) shoud be used as inputs to predict the future value\n",
    "\n",
    "delay: how many points should be predicted\n",
    "\n",
    "Ex: In this example, we use previous prices for 24 days as input  to predict the prices for future 7 days\n",
    "\n",
    "The reason why I chose thses values are:\n",
    "\n",
    "lookback: 24 is the value chosen by autoregressive model (https://www.kaggle.com/kentata/time-series-data-exploration)\n",
    "\n",
    "delay: test data has 7 points(daily values) so prediction and true values wiill be possible\n"
   ]
  },
  {
   "cell_type": "code",
   "execution_count": 10,
   "metadata": {
    "_cell_guid": "2362868a-a703-4ba8-a312-9571e171ba7d",
    "_uuid": "6501bb6e1934b943896a40c8e3c910e4d59bde6a",
    "collapsed": true
   },
   "outputs": [],
   "source": [
    "lookback = 24\n",
    "step = 1\n",
    "delay = 7\n",
    "batch_size = 128\n",
    "train_gen = generator(train_n, lookback=lookback, delay=delay,\n",
    "    min_index=0, max_index=1000, shuffle=True, step=step,\n",
    "batch_size=batch_size)\n",
    "val_gen = generator(train_n, lookback=lookback, delay=delay,\n",
    "    min_index=1001, max_index=None, step=step, batch_size=batch_size)\n",
    "test_gen = generator(test_n, lookback=lookback, delay=delay,\n",
    "    min_index=0, max_index=None, step=step, batch_size=batch_size)\n",
    "# This is how many steps to draw from `val_gen` in order to see the whole validation set:\n",
    "val_steps = (len(train_n) - 1001 - lookback) // batch_size\n",
    "# This is how many steps to draw from `test_gen` in order to see the whole test set:\n",
    "test_steps = (len(test_n) - lookback) // batch_size"
   ]
  },
  {
   "cell_type": "code",
   "execution_count": 11,
   "metadata": {
    "_cell_guid": "ebc3f790-b6cb-46a4-a2ec-2ec069bb9556",
    "_uuid": "5660be75fea9fa947c2045b99fe0925dffbbc482",
    "collapsed": true
   },
   "outputs": [],
   "source": [
    "# reproducibility (make sure each time training is occurred, the result will be the same)\n",
    "np.random.seed(7)"
   ]
  },
  {
   "cell_type": "code",
   "execution_count": 12,
   "metadata": {
    "_cell_guid": "998f0da7-52be-4247-b4a4-f4d402ace516",
    "_uuid": "6fc584cd9cee686a6278fa82145cd339a7cbadaf"
   },
   "outputs": [
    {
     "name": "stderr",
     "output_type": "stream",
     "text": [
      "Using TensorFlow backend.\n"
     ]
    }
   ],
   "source": [
    "from keras.models import Sequential\n",
    "from keras import layers\n",
    "from keras.optimizers import RMSprop"
   ]
  },
  {
   "cell_type": "code",
   "execution_count": 13,
   "metadata": {
    "_cell_guid": "a1742752-1b4a-4695-b428-eb3e0cb3737d",
    "_uuid": "ad449498944a2f0b45d35d9b49a8796f3e1bf7f3",
    "scrolled": true
   },
   "outputs": [
    {
     "name": "stdout",
     "output_type": "stream",
     "text": [
      "_________________________________________________________________\n",
      "Layer (type)                 Output Shape              Param #   \n",
      "=================================================================\n",
      "gru_1 (GRU)                  (None, 32)                3264      \n",
      "_________________________________________________________________\n",
      "dense_1 (Dense)              (None, 1)                 33        \n",
      "=================================================================\n",
      "Total params: 3,297\n",
      "Trainable params: 3,297\n",
      "Non-trainable params: 0\n",
      "_________________________________________________________________\n"
     ]
    }
   ],
   "source": [
    "model = Sequential()\n",
    "model.add(layers.GRU(32,\n",
    "                     dropout=0.2,\n",
    "                     recurrent_dropout=0.2,\n",
    "                     input_shape=(None, train_n.shape[-1])))\n",
    "model.add(layers.Dense(1))\n",
    "model.compile(optimizer=RMSprop(), loss='mae')\n",
    "model.summary()"
   ]
  },
  {
   "cell_type": "code",
   "execution_count": 14,
   "metadata": {
    "_cell_guid": "9a81c912-551c-4610-a312-f7cc5ac49000",
    "_uuid": "a9d207442accdd96902ef709f42e14dcdaee0fdb"
   },
   "outputs": [
    {
     "name": "stdout",
     "output_type": "stream",
     "text": [
      "Epoch 1/40\n",
      "500/500 [==============================] - 27s - loss: 0.1584 - val_loss: 0.4345\n",
      "Epoch 2/40\n",
      "500/500 [==============================] - 27s - loss: 0.1430 - val_loss: 0.4519\n",
      "Epoch 3/40\n",
      "500/500 [==============================] - 27s - loss: 0.1186 - val_loss: 0.4737\n",
      "Epoch 4/40\n",
      "500/500 [==============================] - 27s - loss: 0.1090 - val_loss: 0.5225\n",
      "Epoch 5/40\n",
      "500/500 [==============================] - 27s - loss: 0.1054 - val_loss: 0.5584\n",
      "Epoch 6/40\n",
      "500/500 [==============================] - 27s - loss: 0.1023 - val_loss: 0.5431\n",
      "Epoch 7/40\n",
      "500/500 [==============================] - 27s - loss: 0.1011 - val_loss: 0.5546\n",
      "Epoch 8/40\n",
      "500/500 [==============================] - 27s - loss: 0.0983 - val_loss: 0.5800\n",
      "Epoch 9/40\n",
      "500/500 [==============================] - 27s - loss: 0.0930 - val_loss: 0.5425\n",
      "Epoch 10/40\n",
      "500/500 [==============================] - 27s - loss: 0.0911 - val_loss: 0.5513\n",
      "Epoch 11/40\n",
      "500/500 [==============================] - 26s - loss: 0.0866 - val_loss: 0.5397\n",
      "Epoch 12/40\n",
      "500/500 [==============================] - 27s - loss: 0.0841 - val_loss: 0.5481\n",
      "Epoch 13/40\n",
      "500/500 [==============================] - 27s - loss: 0.0813 - val_loss: 0.5488\n",
      "Epoch 14/40\n",
      "500/500 [==============================] - 27s - loss: 0.0799 - val_loss: 0.5710\n",
      "Epoch 15/40\n",
      "500/500 [==============================] - 27s - loss: 0.0803 - val_loss: 0.5398\n",
      "Epoch 16/40\n",
      "500/500 [==============================] - 24s - loss: 0.0780 - val_loss: 0.5601\n",
      "Epoch 17/40\n",
      "500/500 [==============================] - 25s - loss: 0.0769 - val_loss: 0.5440\n",
      "Epoch 18/40\n",
      "500/500 [==============================] - 25s - loss: 0.0754 - val_loss: 0.5503\n",
      "Epoch 19/40\n",
      "500/500 [==============================] - 26s - loss: 0.0747 - val_loss: 0.5444\n",
      "Epoch 20/40\n",
      "500/500 [==============================] - 27s - loss: 0.0736 - val_loss: 0.5426\n",
      "Epoch 21/40\n",
      "500/500 [==============================] - 27s - loss: 0.0729 - val_loss: 0.5551\n",
      "Epoch 22/40\n",
      "500/500 [==============================] - 27s - loss: 0.0727 - val_loss: 0.5541\n",
      "Epoch 23/40\n",
      "500/500 [==============================] - 26s - loss: 0.0724 - val_loss: 0.5638\n",
      "Epoch 24/40\n",
      "215/500 [===========>..................] - ETA: 15s - loss: 0.0715"
     ]
    }
   ],
   "source": [
    "history = model.fit_generator(train_gen,\n",
    "                              steps_per_epoch=500,\n",
    "                              epochs=40,\n",
    "                              validation_data=val_gen,\n",
    "                              validation_steps=val_steps)"
   ]
  },
  {
   "cell_type": "code",
   "execution_count": 15,
   "metadata": {
    "_cell_guid": "9cfe0dc0-4d1d-435e-822f-7934dcea6303",
    "_uuid": "998905534663e8689b0d5977c052413c8f4b617f"
   },
   "outputs": [
    {
     "data": {
      "text/plain": [
       "<matplotlib.legend.Legend at 0x7f8e30464b38>"
      ]
     },
     "execution_count": 15,
     "metadata": {},
     "output_type": "execute_result"
    },
    {
     "data": {
      "image/png": "[encoded data removed]",
      "text/plain": [
       "<matplotlib.figure.Figure at 0x7f8e30ce4470>"
      ]
     },
     "metadata": {},
     "output_type": "display_data"
    }
   ],
   "source": [
    "loss = history.history['loss']\n",
    "val_loss = history.history['val_loss']\n",
    "epochs = range(len(loss))\n",
    "plt.figure()\n",
    "plt.plot(epochs, loss, 'blue', label='train loss')\n",
    "plt.plot(epochs, val_loss, 'orange', label='test loss')\n",
    "plt.title('Training and validation loss')\n",
    "plt.legend()"
   ]
  },
  {
   "cell_type": "markdown",
   "metadata": {
    "_cell_guid": "8969cb74-7b16-47db-b402-09fdba571980",
    "_uuid": "1de16512097c98850c8c2ff7ca1de71c7b0f67c0"
   },
   "source": [
    "Important to note: Overfitting. Further hyperparamter tuing is necessary (strong drop-out, regularization)"
   ]
  },
  {
   "cell_type": "code",
   "execution_count": 16,
   "metadata": {
    "_cell_guid": "0e5dcfc9-ec08-4b15-8c28-01c6188b421d",
    "_uuid": "4917c3df6d62625916c141066fdba3f95db821c9",
    "collapsed": true,
    "scrolled": true
   },
   "outputs": [],
   "source": [
    "train_re = train_n.reshape(-1,1,1)\n",
    "pred = model.predict(train_re)"
   ]
  },
  {
   "cell_type": "markdown",
   "metadata": {},
   "source": [
    "Since we scaled the data, it is necessary to scale back to data in original units to plot the data"
   ]
  },
  {
   "cell_type": "code",
   "execution_count": 17,
   "metadata": {
    "collapsed": true
   },
   "outputs": [],
   "source": [
    "pred = scaler.inverse_transform(pred)"
   ]
  },
  {
   "cell_type": "code",
   "execution_count": 18,
   "metadata": {
    "_cell_guid": "5efd431a-32c8-450b-ace1-0602765c9f37",
    "_uuid": "beb877ae28180579a703ce5f2995588460b225c6",
    "scrolled": true
   },
   "outputs": [
    {
     "data": {
      "text/plain": [
       "<matplotlib.text.Text at 0x7f8e2871d518>"
      ]
     },
     "execution_count": 18,
     "metadata": {},
     "output_type": "execute_result"
    },
    {
     "data": {
      "image/png": "[encoded data removed]",
      "text/plain": [
       "<matplotlib.figure.Figure at 0x7f8e30483ac8>"
      ]
     },
     "metadata": {},
     "output_type": "display_data"
    }
   ],
   "source": [
    "plt.plot(range(len(train_re)), train, label='train')\n",
    "plt.plot(range(len(train_re)), pred, label='prediction')\n",
    "plt.legend()\n",
    "plt.title(\"Prediction on training data\")"
   ]
  },
  {
   "cell_type": "markdown",
   "metadata": {
    "_cell_guid": "14d12be3-9d8a-43fa-a53c-a8606de1402d",
    "_uuid": "5ffcc955b5c0f78c4c8802822b6b56c46e13ed2e"
   },
   "source": [
    "# Important to note: prediction does not capture the steep increase of price from 1400 days (prediction performs well unitl 1400 days). This might be due to the abrupt change which is hard to predict"
   ]
  },
  {
   "cell_type": "code",
   "execution_count": 19,
   "metadata": {
    "_cell_guid": "d6303258-6286-4328-b840-fb99e1f39f6c",
    "_uuid": "dcb98fc82f330b71eca7a593f0c8685eaaec0a2e",
    "collapsed": true
   },
   "outputs": [],
   "source": []
  }
 ],
 "metadata": {
  "kernelspec": {
   "display_name": "Python 3",
   "language": "python",
   "name": "python3"
  },
  "language_info": {
   "codemirror_mode": {
    "name": "ipython",
    "version": 3
   },
   "file_extension": ".py",
   "mimetype": "text/x-python",
   "name": "python",
   "nbconvert_exporter": "python",
   "pygments_lexer": "ipython3",
   "version": "3.6.1"
  }
 },
 "nbformat": 4,
 "nbformat_minor": 1
}
